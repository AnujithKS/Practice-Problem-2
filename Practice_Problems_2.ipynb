{
  "nbformat": 4,
  "nbformat_minor": 0,
  "metadata": {
    "colab": {
      "provenance": []
    },
    "kernelspec": {
      "name": "python3",
      "display_name": "Python 3"
    },
    "language_info": {
      "name": "python"
    }
  },
  "cells": [
    {
      "cell_type": "markdown",
      "source": [
        " ***Practice Problem 2***"
      ],
      "metadata": {
        "id": "exhLC1cigv_3"
      }
    },
    {
      "cell_type": "markdown",
      "source": [
        "1. Write a Python program to accept a string value from the user and display\n",
        "the count of each character in that string"
      ],
      "metadata": {
        "id": "GsGm8nspiNJE"
      }
    },
    {
      "cell_type": "code",
      "source": [
        "str =input(\"Enter a string\")\n",
        "for i in str:\n",
        "  print(i,'=',str.count(i))"
      ],
      "metadata": {
        "id": "7o9bGT7jgCIC",
        "colab": {
          "base_uri": "https://localhost:8080/"
        },
        "outputId": "b818d35b-5f7c-4566-b97b-b0cadb16ace5"
      },
      "execution_count": 3,
      "outputs": [
        {
          "output_type": "stream",
          "name": "stdout",
          "text": [
            "Enter a stringassembly\n",
            "a = 1\n",
            "s = 2\n",
            "s = 2\n",
            "e = 1\n",
            "m = 1\n",
            "b = 1\n",
            "l = 1\n",
            "y = 1\n"
          ]
        }
      ]
    },
    {
      "cell_type": "markdown",
      "source": [
        "2. . Write a Python function to find the maximum of three numbers"
      ],
      "metadata": {
        "id": "Q4QTpwQjiTHs"
      }
    },
    {
      "cell_type": "code",
      "source": [
        "m1=int(input('Enter a number'))\n",
        "m2=int(input('Enter a number'))\n",
        "m3=int(input('Enter a number'))\n",
        "sum = max(m1,m2,m3)\n",
        "print(sum)"
      ],
      "metadata": {
        "colab": {
          "base_uri": "https://localhost:8080/"
        },
        "id": "qL3PejcmiQcW",
        "outputId": "47a1ee29-2475-4d74-9e07-e4db2d2ce425"
      },
      "execution_count": null,
      "outputs": [
        {
          "output_type": "stream",
          "name": "stdout",
          "text": [
            "Enter a number34\n",
            "Enter a number12\n",
            "Enter a number7\n",
            "34\n"
          ]
        }
      ]
    },
    {
      "cell_type": "markdown",
      "source": [
        "3. Write a Python function called exponent(base,exp) that returns an\n",
        "integer value of base raises to the power of exp"
      ],
      "metadata": {
        "id": "ls8dMPqyjCz3"
      }
    },
    {
      "cell_type": "code",
      "source": [
        "b1 = int(input('Enter the base:'))\n",
        "b2 = int(input('Enter the exponent:'))\n",
        "print(b1**b2)"
      ],
      "metadata": {
        "colab": {
          "base_uri": "https://localhost:8080/"
        },
        "id": "R7nmB9BuivWr",
        "outputId": "d7e92062-5a6c-4f79-8047-4b6212f422e2"
      },
      "execution_count": null,
      "outputs": [
        {
          "output_type": "stream",
          "name": "stdout",
          "text": [
            "Enter the base:2\n",
            "Enter the exponent:3\n",
            "8\n"
          ]
        }
      ]
    },
    {
      "cell_type": "markdown",
      "source": [
        "4. Write a Python function that takes a positive integer and returns the sum\n",
        "of the cube of all the positive integers smaller than the specified number\n"
      ],
      "metadata": {
        "id": "xRPjZxebjwKC"
      }
    },
    {
      "cell_type": "code",
      "source": [
        "def sum_c(n):\n",
        "  r_s=0\n",
        "  for i in range(1,n):\n",
        "     r_s += i**3\n",
        "  return r_s\n",
        "n = int(input('Enter a no:'))\n",
        "result = sum_c(n)\n",
        "print(result)\n"
      ],
      "metadata": {
        "colab": {
          "base_uri": "https://localhost:8080/"
        },
        "id": "Gfo8VskkkQyB",
        "outputId": "a8744161-8c26-4ecd-8f15-d89d05dfa87b"
      },
      "execution_count": null,
      "outputs": [
        {
          "output_type": "stream",
          "name": "stdout",
          "text": [
            "Enter a no:4\n",
            "36\n"
          ]
        }
      ]
    },
    {
      "cell_type": "markdown",
      "source": [
        "5. Write a Python program which iterates from 1 to 10. For multiples of 2,\n",
        "print “Fizz” instead of the number and for the multiples of 5, print “Buzz”.\n",
        "For numbers which are multiples of both 2 and 5, print “FizzBuzz”."
      ],
      "metadata": {
        "id": "FQi8N-wmnG-h"
      }
    },
    {
      "cell_type": "code",
      "source": [
        "for i in range(1,11):\n",
        "  if i%2 == 0 and i%5 == 0:\n",
        "    print(\"FizzBuzz\")\n",
        "  elif i%2 == 0:\n",
        "    print(\"Fizz\")\n",
        "  elif i%5 == 0:\n",
        "    print(\"Buzz\")\n",
        "  else:\n",
        "    print(i)\n"
      ],
      "metadata": {
        "colab": {
          "base_uri": "https://localhost:8080/"
        },
        "id": "xPinZCv3m8LD",
        "outputId": "7f87d9f7-c531-4597-99ec-f387be6bd082"
      },
      "execution_count": null,
      "outputs": [
        {
          "output_type": "stream",
          "name": "stdout",
          "text": [
            "1\n",
            "Fizz\n",
            "3\n",
            "Fizz\n",
            "Buzz\n",
            "Fizz\n",
            "7\n",
            "Fizz\n",
            "9\n",
            "FizzBuzz\n"
          ]
        }
      ]
    },
    {
      "cell_type": "markdown",
      "source": [
        "6.Write a Python program to find the most frequent item in a list of\n",
        "numbers."
      ],
      "metadata": {
        "id": "iaMVEdy7p0mA"
      }
    },
    {
      "cell_type": "code",
      "source": [
        "l1 = [2, 3, 4, 2, 5, 2 ]\n",
        "def most_f(l1):\n",
        "  counter = 0\n",
        "  num = l1[0]\n",
        "  for i in l1:\n",
        "    cur_f = l1.count(i)\n",
        "    if(cur_f>counter):\n",
        "      counter = cur_f\n",
        "      num=i\n",
        "  return num\n",
        "print(most_f(l1))"
      ],
      "metadata": {
        "colab": {
          "base_uri": "https://localhost:8080/"
        },
        "id": "YeVtRbC1o_3t",
        "outputId": "788bf6f2-233e-4b38-f59e-aea48e783af9"
      },
      "execution_count": null,
      "outputs": [
        {
          "output_type": "stream",
          "name": "stdout",
          "text": [
            "2\n"
          ]
        }
      ]
    },
    {
      "cell_type": "markdown",
      "source": [
        "7.Write a Python program to find the sum of squares of the numbers in a\n",
        "list."
      ],
      "metadata": {
        "id": "mUmrdFF4r5xQ"
      }
    },
    {
      "cell_type": "code",
      "source": [
        "m_list=[2,1,3,1 ]\n",
        "sum_lt = 0\n",
        "for i in m_list:\n",
        "  sum_lt+=i*i\n",
        "print(sum_lt)"
      ],
      "metadata": {
        "colab": {
          "base_uri": "https://localhost:8080/"
        },
        "id": "L7NDBCIdtIIc",
        "outputId": "aec03200-25ba-49e8-8189-e156ffe35cb9"
      },
      "execution_count": null,
      "outputs": [
        {
          "output_type": "stream",
          "name": "stdout",
          "text": [
            "15\n"
          ]
        }
      ]
    },
    {
      "cell_type": "markdown",
      "source": [
        "8. Write a Python program using for loop that will iterate from 1 to 15. For\n",
        "each iteration, check if the current number is odd or even, and display the\n",
        "message to the screen as odd or even."
      ],
      "metadata": {
        "id": "W3Vz8fP7vYnL"
      }
    },
    {
      "cell_type": "code",
      "source": [
        "for i in range(1,16):\n",
        "  if i%2 == 0:\n",
        "    print(i,\"-even\")\n",
        "  else:\n",
        "    print(i,\"-odd\")"
      ],
      "metadata": {
        "colab": {
          "base_uri": "https://localhost:8080/"
        },
        "id": "mrOHaO4DvAOl",
        "outputId": "f4a50778-aba8-4e98-ba89-108f51d4eca9"
      },
      "execution_count": null,
      "outputs": [
        {
          "output_type": "stream",
          "name": "stdout",
          "text": [
            "1 -odd\n",
            "2 -even\n",
            "3 -odd\n",
            "4 -even\n",
            "5 -odd\n",
            "6 -even\n",
            "7 -odd\n",
            "8 -even\n",
            "9 -odd\n",
            "10 -even\n",
            "11 -odd\n",
            "12 -even\n",
            "13 -odd\n",
            "14 -even\n",
            "15 -odd\n"
          ]
        }
      ]
    },
    {
      "cell_type": "markdown",
      "source": [
        "9. Write a Python program to convert temperatures to and from Celsius\n",
        "Fahrenheit. [Formula: c/5=f-32/9 where c=temperature in Celsius and f=\n",
        "temperature in Fahrenheit.]"
      ],
      "metadata": {
        "id": "WkdytZHowZTs"
      }
    },
    {
      "cell_type": "code",
      "source": [
        "k= float(input(\"Enter the temparature\"))\n",
        "n=((k-32)/9)*5\n",
        "print('Temperature in Fahrenheit=',k)\n",
        "print('Temperature in Celsius =',n)"
      ],
      "metadata": {
        "colab": {
          "base_uri": "https://localhost:8080/"
        },
        "id": "YI17ci6tv4X0",
        "outputId": "500112ba-1b36-4050-c685-f9375d0b4423"
      },
      "execution_count": null,
      "outputs": [
        {
          "output_type": "stream",
          "name": "stdout",
          "text": [
            "Enter the temparature41\n",
            "Temperature in Fahrenheit= 41.0\n",
            "Temperature in Celsius = 5.0\n"
          ]
        }
      ]
    },
    {
      "cell_type": "markdown",
      "source": [
        "10. Write a Python function to calculate the factorial of a number (a\n",
        "nonnegative integer). The function accepts the number as an argument."
      ],
      "metadata": {
        "id": "hKTFrMmZzR6F"
      }
    },
    {
      "cell_type": "code",
      "source": [
        "def factorial(n):\n",
        "  if n == 0:\n",
        "    return 1\n",
        "  else:\n",
        "    return n*factorial(n-1)\n",
        "n=int(input('Enter a number :'))\n",
        "print(factorial(n))"
      ],
      "metadata": {
        "colab": {
          "base_uri": "https://localhost:8080/"
        },
        "id": "-Kwz8jdiyfAl",
        "outputId": "817932c3-ea0e-4831-f7cc-0916670fe22f"
      },
      "execution_count": null,
      "outputs": [
        {
          "output_type": "stream",
          "name": "stdout",
          "text": [
            "Enter a number :3\n",
            "6\n"
          ]
        }
      ]
    },
    {
      "cell_type": "code",
      "source": [],
      "metadata": {
        "id": "tld9h1oz05ct"
      },
      "execution_count": null,
      "outputs": []
    }
  ]
}